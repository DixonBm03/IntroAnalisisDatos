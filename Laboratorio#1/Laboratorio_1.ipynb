{
  "nbformat": 4,
  "nbformat_minor": 0,
  "metadata": {
    "colab": {
      "provenance": []
    },
    "kernelspec": {
      "name": "python3",
      "display_name": "Python 3"
    },
    "language_info": {
      "name": "python"
    }
  },
  "cells": [
    {
      "cell_type": "code",
      "execution_count": 9,
      "metadata": {
        "id": "qwlqazIwAQ1L",
        "colab": {
          "base_uri": "https://localhost:8080/"
        },
        "outputId": "3f45d994-6ba7-4a83-9fc9-9e2ed68cac03"
      },
      "outputs": [
        {
          "output_type": "stream",
          "name": "stdout",
          "text": [
            "Promedio de los elementos del vector\n",
            "Ingrese cantidad de temperatura\n",
            "6\n",
            "Ingrese la temperatura: 30\n",
            "Ingrese la temperatura: 30\n",
            "Ingrese la temperatura: 22\n",
            "Ingrese la temperatura: 44\n",
            "Ingrese la temperatura: 34\n",
            "Ingrese la temperatura: 33\n",
            "El promedio de las temperaturas es: 32.166666666666664\n",
            "La temperatura mas frecuente es: 30.0\n",
            "El valor intermedio de las temperaturas es: 31.5\n",
            "El valor que se aleja de los resultados de la temperatura es:  6.542595475463507\n",
            "La separación entre los valores individuales en el conjunto de temperaturas suele ser aproximadamente:  42.80555555555555\n"
          ]
        }
      ],
      "source": [
        "print(\"Promedio de los elementos del vector\")\n",
        "Suma = 0\n",
        "Media = 0\n",
        "Temp = []\n",
        "\n",
        "print(\"Ingrese cantidad de temperatura\")\n",
        "N = int(input())\n",
        "\n",
        "for i in range(N):\n",
        "    temperatura = float(input(\"Ingrese la temperatura: \"))\n",
        "    Temp.append(temperatura)\n",
        "    Suma += Temp[i]\n",
        "\n",
        "Media = Suma / N\n",
        "print(\"El promedio de las temperaturas es:\", Media)\n",
        "\n",
        "#Moda\n",
        "frecuencias = {}\n",
        "for temperatura in Temp:\n",
        "    if temperatura in frecuencias:\n",
        "        frecuencias[temperatura] += 1\n",
        "    else:\n",
        "        frecuencias[temperatura] = 1\n",
        "\n",
        "moda = max(frecuencias, key=frecuencias.get)\n",
        "print(\"La temperatura mas frecuente es:\", moda)\n",
        "\n",
        "#Mediana\n",
        "Temp.sort()\n",
        "if N % 2 == 0:\n",
        "    mediana = (Temp[N // 2 - 1] + Temp[N // 2]) / 2\n",
        "else:\n",
        "    mediana = Temp[N // 2]\n",
        "print(\"El valor intermedio de las temperaturas es:\", mediana)\n",
        "\n",
        "#Desviación Estándar\n",
        "suma_cuadrados = sum((x - Media) ** 2 for x in Temp)\n",
        "desviacion_estandar = (suma_cuadrados / N) ** 0.5\n",
        "print(\"El valor que se aleja de los resultados de la temperatura es: \", desviacion_estandar)\n",
        "\n",
        "# Varianza\n",
        "varianza = suma_cuadrados / N\n",
        "print(\"La separación entre los valores individuales en el conjunto de temperaturas suele ser aproximadamente: \", varianza)"
      ]
    }
  ]
}