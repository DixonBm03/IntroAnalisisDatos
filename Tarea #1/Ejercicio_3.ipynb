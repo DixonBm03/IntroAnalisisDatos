{
  "nbformat": 4,
  "nbformat_minor": 0,
  "metadata": {
    "colab": {
      "provenance": []
    },
    "kernelspec": {
      "name": "python3",
      "display_name": "Python 3"
    },
    "language_info": {
      "name": "python"
    }
  },
  "cells": [
    {
      "cell_type": "code",
      "execution_count": null,
      "metadata": {
        "id": "MOLQIiff1zvs"
      },
      "outputs": [],
      "source": [
        "print(\"Digite un numero\")\n",
        "numero=int(input(\"Numero: \"))\n",
        "\n",
        "while numero>0:\n",
        "  Suma=0\n",
        "  for i in range(1, numero+1):\n",
        "    if(numero % i==0):\n",
        "      Suma=Suma+i\n",
        "  print(Suma)\n",
        "  numero=int(input(\"Numero: \"))"
      ]
    }
  ]
}