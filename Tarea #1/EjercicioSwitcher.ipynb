{
  "nbformat": 4,
  "nbformat_minor": 0,
  "metadata": {
    "colab": {
      "provenance": []
    },
    "kernelspec": {
      "name": "python3",
      "display_name": "Python 3"
    },
    "language_info": {
      "name": "python"
    }
  },
  "cells": [
    {
      "cell_type": "code",
      "execution_count": null,
      "metadata": {
        "colab": {
          "base_uri": "https://localhost:8080/"
        },
        "id": "MuZvjCLmwoLm",
        "outputId": "d0048343-3f8c-4ffc-bcca-a132d4e46296"
      },
      "outputs": [
        {
          "output_type": "stream",
          "name": "stdout",
          "text": [
            "Ingrese un numero: 3\n",
            "Marzo\n"
          ]
        }
      ],
      "source": [
        "switcher={1: \"Enero\", 2: \"Febrero\", 3: \"Marzo\", 4: \"Abril\", 5: \"Mayo\", 6: \"Junio\", 7: \"Julio\",8: \"Agosto\", 9: \"Setiembre\", 10: \"Octubre\", 11: \"Noviembre\", 12: \"Diciembre\"}\n",
        "argument=int(input(\"Ingrese un numero: \"))\n",
        "nombreDeMes=switcher.get(argument, \"mes invalido\")\n",
        "print(nombreDeMes)"
      ]
    }
  ]
}