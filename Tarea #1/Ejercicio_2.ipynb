{
  "nbformat": 4,
  "nbformat_minor": 0,
  "metadata": {
    "colab": {
      "provenance": []
    },
    "kernelspec": {
      "name": "python3",
      "display_name": "Python 3"
    },
    "language_info": {
      "name": "python"
    }
  },
  "cells": [
    {
      "cell_type": "code",
      "execution_count": null,
      "metadata": {
        "colab": {
          "base_uri": "https://localhost:8080/"
        },
        "id": "r_XG-6Kxyl_e",
        "outputId": "c7f8b8d5-ef18-45ba-c69a-8a7af510346a"
      },
      "outputs": [
        {
          "output_type": "stream",
          "name": "stdout",
          "text": [
            "Introduce el capital, el interes, y el tiempo apropiado\n",
            "Capital: 1000\n",
            "Interes: 10\n",
            "Tiempo en annios: 20\n",
            "Monto 1100.0 Colones\n",
            "Monto 1210.0 Colones\n",
            "Monto 1331.0 Colones\n",
            "Monto 1464.1000000000001 Colones\n",
            "Monto 1610.5100000000002 Colones\n",
            "Monto 1771.5610000000004 Colones\n",
            "Monto 1948.7171000000005 Colones\n",
            "Monto 2143.5888100000006 Colones\n",
            "Monto 2357.9476910000008 Colones\n",
            "Monto 2593.742460100001 Colones\n",
            "Monto 2853.1167061100014 Colones\n",
            "Monto 3138.4283767210018 Colones\n",
            "Monto 3452.271214393102 Colones\n",
            "Monto 3797.4983358324125 Colones\n",
            "Monto 4177.248169415654 Colones\n",
            "Monto 4594.97298635722 Colones\n",
            "Monto 5054.470284992943 Colones\n",
            "Monto 5559.917313492238 Colones\n",
            "Monto 6115.909044841462 Colones\n",
            "Monto 6727.499949325608 Colones\n"
          ]
        }
      ],
      "source": [
        "#Creacion de variables\n",
        "C=1\n",
        "I=0\n",
        "M=0\n",
        "while(C<0)or(I<=0)or(I>=100)or(M<=0):\n",
        "  print(\"Introduce el capital, el interes, y el tiempo apropiado\")\n",
        "  C=int(input(\"Capital: \"))\n",
        "  I=int(input(\"Interes: \"))\n",
        "  M=int(input(\"Tiempo en annios: \"))\n",
        "\n",
        "for i in range(M):\n",
        "  C=C*(1+I/100)\n",
        "  print(\"Monto\", C, \"Colones\")"
      ]
    },
    {
      "cell_type": "code",
      "source": [],
      "metadata": {
        "id": "s_9NLxyq1Q4H"
      },
      "execution_count": null,
      "outputs": []
    }
  ]
}