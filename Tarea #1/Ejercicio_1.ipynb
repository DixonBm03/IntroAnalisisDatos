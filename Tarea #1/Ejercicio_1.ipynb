{
  "nbformat": 4,
  "nbformat_minor": 0,
  "metadata": {
    "colab": {
      "provenance": []
    },
    "kernelspec": {
      "name": "python3",
      "display_name": "Python 3"
    },
    "language_info": {
      "name": "python"
    }
  },
  "cells": [
    {
      "cell_type": "code",
      "source": [
        "print(\"Ejercicio Bisiesto\")\n",
        "annio=int(input(\"Ingrese el annio: \"))\n",
        "if(annio % 400==0)or(annio % 4==0) and(annio % 100 !=0):\n",
        "  print(\"El annio es biciesto\")\n",
        "else:\n",
        "    print(\"El annio no es biciesto\")"
      ],
      "metadata": {
        "colab": {
          "base_uri": "https://localhost:8080/"
        },
        "id": "cGoiPUP0JyBa",
        "outputId": "a6e05e54-c56c-4261-8dc8-6755ff693377"
      },
      "execution_count": null,
      "outputs": [
        {
          "output_type": "stream",
          "name": "stdout",
          "text": [
            "Ejercicio Bisiesto\n",
            "Ingrese el annio: 2021\n",
            "El annio no es biciesto\n"
          ]
        }
      ]
    }
  ]
}